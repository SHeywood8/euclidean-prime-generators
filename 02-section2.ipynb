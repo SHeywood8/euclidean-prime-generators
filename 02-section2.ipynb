{
 "cells": [
  {
   "cell_type": "markdown",
   "metadata": {},
   "source": [
    "# Section 2 - The Second Euclid-Mullin Sequence"
   ]
  },
  {
   "cell_type": "code",
   "execution_count": 5,
   "metadata": {},
   "outputs": [],
   "source": [
    "import funcs\n",
    "import numpy as np\n",
    "import itertools\n",
    "\n",
    "# Currently known terms (first 14) of Second Euclid-Mullin Sequence as global variable\n",
    "EM2 = [2, 3, 7, 43, 139, 50207, 340999, 2365347734339, 4680225641471129, 1368845206580129, 889340324577880670089824574922371, 20766142440959799312827873190033784610984957267051218394040721, 3486546133523738294549021453705017008734873145092643149204854821614266466998637603378972254923344607825545244648001799, 26402590817665123115124196783110486814361930234455788059710183484151247460960172672371287819122033451]"
   ]
  },
  {
   "cell_type": "markdown",
   "metadata": {},
   "source": [
    "## Section 2.2 - Cox and Van Der Poorten's proof"
   ]
  },
  {
   "cell_type": "code",
   "execution_count": 6,
   "metadata": {},
   "outputs": [],
   "source": [
    "def CvdP(p : int, k : int):\n",
    "    '''Returns a numpy array that calculates the terms a_ij in Cox and Van Der Poorten's proof\n",
    "    for primes up to p using the first k terms of EM2'''\n",
    "    primes = [x for x in funcs.eratosthanes(p) if x not in EM2]\n",
    "    em2 = EM2[:k]\n",
    "    aij = np.zeros([len(em2),len(primes)])\n",
    "    for j in range(len(primes)):\n",
    "        if primes[j] % 4 == 3:\n",
    "            aij[0][j] = 1\n",
    "        for i in range(1,len(em2)):\n",
    "            aij[i][j] = int(0.5*(1-funcs.Jacobi(primes[j],em2[i])))\n",
    "    return aij\n",
    "\n",
    "def find_comb(aij):\n",
    "    '''Find a combination of the 2nd through last rows of congruences in Cox and Van Der Poorten's proof\n",
    "    that add up to equal the first row giving an inconsistency'''\n",
    "    aij = [[int(x) for x in list(x)] for x in list(aij)] # Convert array into list of lists of integers\n",
    "    blst = []\n",
    "    for size in range(2, len(aij)):\n",
    "        for subset in itertools.combinations(aij[1:],size): # iterate over all subsets of rows of all lengths\n",
    "            alst = []\n",
    "            leng = len(subset[0])\n",
    "            theone = True\n",
    "            for i in range(leng): # add up the first term of each row in subset and if it doesnt equal first row then stop\n",
    "                sum = 0\n",
    "                for lst in subset:\n",
    "                    sum += lst[i]\n",
    "                sum %= 2\n",
    "                if sum != aij[0][i]:\n",
    "                    theone = False\n",
    "                    break\n",
    "            if theone: # if it finds a combination it adds it to a list to be returned\n",
    "                for row in subset:\n",
    "                    alst.append(aij.index(row)+1)\n",
    "                blst.append(alst)\n",
    "    return blst"
   ]
  },
  {
   "cell_type": "code",
   "execution_count": 7,
   "metadata": {},
   "outputs": [
    {
     "data": {
      "text/plain": [
       "[[4, 5, 6, 7, 11, 12, 13], [3, 4, 5, 7, 8, 9, 10, 11, 12, 14]]"
      ]
     },
     "execution_count": 7,
     "metadata": {},
     "output_type": "execute_result"
    }
   ],
   "source": [
    "find_comb(CvdP(53,14)) # Find an inconsistency for the prime 53 using up to the first 14 terms of EM2"
   ]
  },
  {
   "cell_type": "markdown",
   "metadata": {},
   "source": [
    "We see there are two possible combinations, one requiring only the first 13 rows and the other requiring all 14 rows as claimed.\n",
    "\n",
    "Now for the claim that 73 is the largest prime that can be excluded:"
   ]
  },
  {
   "cell_type": "code",
   "execution_count": 8,
   "metadata": {},
   "outputs": [
    {
     "name": "stdout",
     "output_type": "stream",
     "text": [
      "2 [1, 1]\n",
      "3 [1, 1]\n",
      "5 [2, 2]\n",
      "7 [2, 2]\n",
      "11 [2, 3]\n",
      "13 [2, 4]\n",
      "17 [5, 9]\n",
      "19 [5, 12]\n",
      "23 [5, 12]\n",
      "29 [5, 12]\n",
      "31 [5, 12]\n",
      "37 [5, 12]\n",
      "41 [5, 12]\n",
      "43 [5, 12]\n",
      "47 [5, 12]\n",
      "53 [4, 5, 6, 7, 11, 12, 13]\n",
      "59 [4, 5, 6, 7, 11, 12, 13]\n",
      "61 [4, 5, 6, 7, 11, 12, 13]\n",
      "67 [4, 5, 6, 7, 11, 12, 13]\n",
      "71 [4, 5, 6, 7, 11, 12, 13]\n",
      "73 [4, 5, 6, 7, 11, 12, 13]\n"
     ]
    }
   ],
   "source": [
    "for p in funcs.eratosthanes(1000): # Check for inconsistencies for all primes below 1000\n",
    "    combs = find_comb(CvdP(p,14))\n",
    "    if combs != []:\n",
    "        print(p,combs[0])"
   ]
  }
 ],
 "metadata": {
  "kernelspec": {
   "display_name": "Python 3",
   "language": "python",
   "name": "python3"
  },
  "language_info": {
   "codemirror_mode": {
    "name": "ipython",
    "version": 3
   },
   "file_extension": ".py",
   "mimetype": "text/x-python",
   "name": "python",
   "nbconvert_exporter": "python",
   "pygments_lexer": "ipython3",
   "version": "3.13.0"
  }
 },
 "nbformat": 4,
 "nbformat_minor": 2
}
