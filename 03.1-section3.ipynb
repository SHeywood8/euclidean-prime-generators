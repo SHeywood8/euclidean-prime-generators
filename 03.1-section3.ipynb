{
 "cells": [
  {
   "cell_type": "markdown",
   "metadata": {},
   "source": [
    "# Section 3 - Euclid-Mullin Sequences in mk+1"
   ]
  },
  {
   "cell_type": "code",
   "execution_count": 3,
   "metadata": {},
   "outputs": [],
   "source": [
    "import funcs\n",
    "import math\n",
    "import random\n",
    "import csv"
   ]
  },
  {
   "cell_type": "code",
   "execution_count": 4,
   "metadata": {},
   "outputs": [],
   "source": [
    "def list_to_poly(coeffs : list):\n",
    "    '''Takes an integer list and returns a polynomial with those integers as coefficients\n",
    "    e.g. [1,2,3] returns 1 + 2x + 3x**2'''\n",
    "    def poly(x):\n",
    "        sum = 0\n",
    "        expo = 0\n",
    "        for i in range(len(coeffs)):\n",
    "            sum += coeffs[-i-1]*(x**expo)\n",
    "            expo += 1\n",
    "        return sum\n",
    "    return poly\n",
    "\n",
    "def phi_prime(p : int):\n",
    "    '''Returns the polynomial of degree p-1 with all coefficients 1\n",
    "    i.e. Phi_p(x) for p prime'''\n",
    "    return list_to_poly([1]*p)\n",
    "\n",
    "def phi(m,x):\n",
    "    '''Recursive function to calculate Phi_m(x) for any m\n",
    "    using the recursive division equation presented in section 3.1'''\n",
    "    if m == 1:\n",
    "        return x - 1\n",
    "    factors = funcs.factor(m)\n",
    "    if len(factors) == 1:\n",
    "        return phi_prime(m)(x)\n",
    "    else:\n",
    "        val = phi_prime(m)(x)\n",
    "        for d in range(2,m):\n",
    "            if m % d == 0:\n",
    "                val //= phi(d,x)\n",
    "        return val\n",
    "\n",
    "def fermat(a : int, d : int, N : int): # Book page 88\n",
    "    '''Calculates a^d mod N'''\n",
    "    prod = 1\n",
    "    a2j = a\n",
    "    while d>0:\n",
    "        if d % 2 == 1:\n",
    "            prod *= a2j\n",
    "            prod %= N\n",
    "        d //= 2\n",
    "        a2j **= 2\n",
    "        a2j %= N\n",
    "    return prod\n",
    "\n",
    "def fermat_test(N : int, iter = 10, baselim = 313):\n",
    "    '''Performs a fermat compositeness test with multiple prime bases\n",
    "     to try to rule out if N is prime. Output is whether or not N is\n",
    "     (probably) prime.'''\n",
    "    primes = funcs.eratosthanes(baselim)\n",
    "    for p in primes:\n",
    "        if N % p == 0 and N != p:\n",
    "            return False\n",
    "    for i in range(iter):\n",
    "        if math.gcd(primes[i],N) == 1:\n",
    "            if fermat(primes[i],N-1,N) != 1:\n",
    "                return False\n",
    "    else:\n",
    "        return True\n",
    "\n",
    "def modular_pow(base, exponent, modulus): # Function from https://www.geeksforgeeks.org/pollards-rho-algorithm-prime-factorization/\n",
    "    '''Efficiently computes large powers base**exponent mod modulus'''\n",
    "    result = 1  # initialize result \n",
    "    while (exponent > 0):\n",
    "        if (exponent & 1): # if y is odd, multiply base with result \n",
    "            result = (result * base) % modulus\n",
    "        exponent = exponent >> 1 # exponent = exponent/2 \n",
    "        base = (base * base) % modulus # base = base * base \n",
    "    return result\n",
    "\n",
    "def PollardRho(n): # Function from https://www.geeksforgeeks.org/pollards-rho-algorithm-prime-factorization/\n",
    "    '''Implementation of the Pollard Rho algorithm to find factors'''\n",
    "    if (n == 1): # no prime divisor for 1 \n",
    "        return n\n",
    "    if (n % 2 == 0): # even number means one of the divisors is 2 \n",
    "        return 2\n",
    "    x = (random.randint(0, 2) % (n - 2)) # we will pick from the range [2, N) \n",
    "    y = x\n",
    "    # the constant in f(x).\n",
    "    # Algorithm can be re-run with a different c\n",
    "    # if it throws failure for a composite. \n",
    "    c = (random.randint(0, 1) % (n - 1))\n",
    "    # Initialize candidate divisor (or result) \n",
    "    d = 1\n",
    "    # until the prime factor isn't obtained.\n",
    "    # If n is prime, return n \n",
    "    while (d == 1):\n",
    "        # Tortoise Move: x(i+1) = f(x(i)) \n",
    "        x = (modular_pow(x, 2, n) + c + n)%n\n",
    "        # Hare Move: y(i+1) = f(f(y(i))) \n",
    "        y = (modular_pow(y, 2, n) + c + n)%n\n",
    "        y = (modular_pow(y, 2, n) + c + n)%n\n",
    "        # check gcd of |x-y| and n \n",
    "        d = math.gcd(abs(x - y), n)\n",
    "        # retry if the algorithm fails to find prime factor\n",
    "        # with chosen x and c \n",
    "        if (d == n):\n",
    "            return PollardRho(n)\n",
    "    return d\n",
    "\n",
    "def factor(n):\n",
    "    '''Function that finds the prime factorisation of n.\n",
    "    First brute force checks all primes less than 10000\n",
    "    Then checks if remaining number is composite\n",
    "    Then repeatedly uses PollardRho algorithm to find larger factors'''\n",
    "    factors = []\n",
    "    for p in funcs.eratosthanes(10000):\n",
    "        while n % p == 0:\n",
    "            n //= p\n",
    "            factors.append(p)\n",
    "    while n > 1:\n",
    "        if not fermat_test(n):\n",
    "            a = PollardRho(n)\n",
    "            factors.append(a)\n",
    "            n //= a\n",
    "        else:\n",
    "            factors.append(n)\n",
    "            return factors\n",
    "    return factors"
   ]
  },
  {
   "cell_type": "markdown",
   "metadata": {},
   "source": [
    "## Section 3.2 - The Method"
   ]
  },
  {
   "cell_type": "markdown",
   "metadata": {},
   "source": [
    "#### Example for 4k+1"
   ]
  },
  {
   "cell_type": "code",
   "execution_count": 5,
   "metadata": {},
   "outputs": [
    {
     "name": "stdout",
     "output_type": "stream",
     "text": [
      "For the EM sequence in 4k+1 using Phi_4(4a):\n",
      "[]\n",
      "a = 1\n",
      "N = 17\n",
      "N has factors [17]\n",
      "[17]\n",
      "a = 17\n",
      "N = 4625\n",
      "N has factors [5, 5, 5, 37]\n",
      "[17, 5]\n",
      "a = 85\n",
      "N = 115601\n",
      "N has factors [115601]\n",
      "[17, 5, 115601]\n",
      "a = 9826085\n",
      "N = 1544831142835601\n",
      "N has factors [1457497, 1059920633]\n",
      "[17, 5, 115601, 1457497]\n",
      "a = 14321489409245\n",
      "N = 3281680942385867185463520401\n",
      "N has factors [56921, 57653255255281305413881]\n",
      "[17, 5, 115601, 1457497, 56921]\n"
     ]
    }
   ],
   "source": [
    "seq4 = []\n",
    "\n",
    "print('For the EM sequence in 4k+1 using Phi_4(4a):')\n",
    "\n",
    "for i in range(5):\n",
    "    print(seq4)\n",
    "    a = math.prod(seq4)\n",
    "    print(f'a = {a}')\n",
    "    n = phi(4,4*a)\n",
    "    print(f'N = {n}')\n",
    "    facs = factor(n)\n",
    "    print(f'N has factors {facs}')\n",
    "    seq4.append(min(facs))\n",
    "print(seq4)"
   ]
  },
  {
   "cell_type": "code",
   "execution_count": 6,
   "metadata": {},
   "outputs": [
    {
     "name": "stdout",
     "output_type": "stream",
     "text": [
      "For the EM sequence in 4k+1 using Phi_4(2a):\n",
      "[]\n",
      "a = 1\n",
      "N = 5\n",
      "N has factors [5]\n",
      "[5]\n",
      "a = 5\n",
      "N = 101\n",
      "N has factors [101]\n",
      "[5, 101]\n",
      "a = 505\n",
      "N = 1020101\n",
      "N has factors [1020101]\n",
      "[5, 101, 1020101]\n",
      "a = 515151005\n",
      "N = 1061522231810040101\n",
      "N has factors [53, 1613, 12417062216309]\n",
      "[5, 101, 1020101, 53]\n",
      "a = 27303003265\n",
      "N = 2981815949154402640901\n",
      "N has factors [29, 137, 8143721, 92159345497]\n",
      "[5, 101, 1020101, 53, 29]\n"
     ]
    }
   ],
   "source": [
    "seq2 = []\n",
    "\n",
    "print('For the EM sequence in 4k+1 using Phi_4(2a):')\n",
    "\n",
    "for i in range(5):\n",
    "    print(seq2)\n",
    "    a = math.prod(seq2)\n",
    "    print(f'a = {a}')\n",
    "    n = phi(4,2*a)\n",
    "    print(f'N = {n}')\n",
    "    facs = factor(n)\n",
    "    print(f'N has factors {facs}')\n",
    "    seq2.append(min(facs))\n",
    "print(seq2)"
   ]
  },
  {
   "cell_type": "markdown",
   "metadata": {},
   "source": [
    "#### Example for 5k+1"
   ]
  },
  {
   "cell_type": "code",
   "execution_count": 7,
   "metadata": {},
   "outputs": [
    {
     "name": "stdout",
     "output_type": "stream",
     "text": [
      "For the EM sequence in 5k+1 using Phi_5(5a)\n",
      "[]\n",
      "a = 1\n",
      "N = 781\n",
      "N has factors [11, 71]\n",
      "[71]\n",
      "a = 71\n",
      "N = 15927165881\n",
      "N has factors [11, 1447924171]\n",
      "[71, 1447924171]\n",
      "a = 102802616141\n",
      "N = 69806631955964597980945010096726406220841630981\n",
      "N has factors [11, 31, 41, 311, 12011, 364490341, 3667185416586300605613786041]\n",
      "[71, 1447924171, 3667185416586300605613786041]\n",
      "a = 376996254699194635758149876070627087781\n",
      "N = 12624906200404940689191978070045377494879513343566667250272050819055623766466187699285599250055383402208906248865456217060620363487695490094039741799829056181\n",
      "N has factors [31, 251, 311, 941, 12541, 202008151, 2188475408941814570040456230961014091230117129857427401718038042961655096837762611229601339388318619248220635485794241546725519124149161]\n",
      "[71, 1447924171, 3667185416586300605613786041, 2188475408941814570040456230961014091230117129857427401718038042961655096837762611229601339388318619248220635485794241546725519124149161]\n"
     ]
    }
   ],
   "source": [
    "seq5 = []\n",
    "\n",
    "print('For the EM sequence in 5k+1 using Phi_5(5a)')\n",
    "\n",
    "for i in range(4):\n",
    "    print(seq5)\n",
    "    a = math.prod(seq5)\n",
    "    print(f'a = {a}')\n",
    "    n = phi(5,5*a)\n",
    "    print(f'N = {n}')\n",
    "    facs = factor(n)\n",
    "    print(f'N has factors {facs}')\n",
    "    seq5.append(max(facs))\n",
    "print(seq5)"
   ]
  },
  {
   "cell_type": "code",
   "execution_count": 8,
   "metadata": {},
   "outputs": [
    {
     "name": "stdout",
     "output_type": "stream",
     "text": [
      "This last N had 158 terms\n",
      "and largest prime divisor of length 136.\n"
     ]
    }
   ],
   "source": [
    "print(f'This last N had {len('12624906200404940689191978070045377494879513343566667250272050819055623766466187699285599250055383402208906248865456217060620363487695490094039741799829056181')} terms')\n",
    "print(f'and largest prime divisor of length {len('2188475408941814570040456230961014091230117129857427401718038042961655096837762611229601339388318619248220635485794241546725519124149161')}.')"
   ]
  },
  {
   "cell_type": "code",
   "execution_count": 23,
   "metadata": {},
   "outputs": [
    {
     "name": "stdout",
     "output_type": "stream",
     "text": [
      "The next N we would need to factorise would be \n",
      "289597523737836948333310175321110068291402270014451675897378558088880524898007179204225717767787513913090352970778596645549030767522058130112211235736444030169895041368741368318715349686946474093541864791417011076484807418821591250813130670299094315653702922771929769715435522821693179105047445334951924274600291441984810298032479687681727210609474857128375740705518723357793629201875436186665099102761462201197605060016101130915706130436221483433563205840669841388203682083729890494523552126979222041818352002555553365403953739683650101599111347113923014340418474434287105527174602106533590567951886805506619347340122640918970906431167598849298021918016772404015220844262832584559983748332817638981\n",
      "with 699 digits.\n"
     ]
    }
   ],
   "source": [
    "print(f'The next N we would need to factorise would be \\n{phi(5,5*math.prod(seq5))}')\n",
    "print(f'with {(len('289597523737836948333310175321110068291402270014451675897378558088880524898007179204225717767787513913090352970778596645549030767522058130112211235736444030169895041368741368318715349686946474093541864791417011076484807418821591250813130670299094315653702922771929769715435522821693179105047445334951924274600291441984810298032479687681727210609474857128375740705518723357793629201875436186665099102761462201197605060016101130915706130436221483433563205840669841388203682083729890494523552126979222041818352002555553365403953739683650101599111347113923014340418474434287105527174602106533590567951886805506619347340122640918970906431167598849298021918016772404015220844262832584559983748332817638981'))} digits.')"
   ]
  },
  {
   "cell_type": "code",
   "execution_count": 10,
   "metadata": {},
   "outputs": [
    {
     "name": "stdout",
     "output_type": "stream",
     "text": [
      "But it is easy to verify that it has smallest prime divisor\n",
      "1171\n"
     ]
    }
   ],
   "source": [
    "n = 289597523737836948333310175321110068291402270014451675897378558088880524898007179204225717767787513913090352970778596645549030767522058130112211235736444030169895041368741368318715349686946474093541864791417011076484807418821591250813130670299094315653702922771929769715435522821693179105047445334951924274600291441984810298032479687681727210609474857128375740705518723357793629201875436186665099102761462201197605060016101130915706130436221483433563205840669841388203682083729890494523552126979222041818352002555553365403953739683650101599111347113923014340418474434287105527174602106533590567951886805506619347340122640918970906431167598849298021918016772404015220844262832584559983748332817638981\n",
    "print('But it is easy to verify that it has smallest prime divisor')\n",
    "for p in funcs.eratosthanes(10000):\n",
    "    if n % p == 0:\n",
    "        print(p)"
   ]
  },
  {
   "cell_type": "markdown",
   "metadata": {},
   "source": [
    "#### For discussion around what a can be multipled by instead of m.\n",
    "\n",
    "The following code computes the value of Phi_m(x) (mod m) for all residues classes of m and for m up to 1000 and stores the data in the `cycvals.csv` file."
   ]
  },
  {
   "cell_type": "code",
   "execution_count": 11,
   "metadata": {},
   "outputs": [],
   "source": [
    "# # Can take a while to run so has been commented out to avoid accidental running. Data is already in the required file.\n",
    "\n",
    "# with open('03.2-cycvals.csv', mode='w', newline='') as file:\n",
    "#     writer = csv.writer(file)\n",
    "    \n",
    "#     for m in range(1, 1001):\n",
    "#         mods = []\n",
    "#         for i in range(m):\n",
    "#             a = phi2(m, i) % m\n",
    "#             mods.append(a)\n",
    "        \n",
    "#         # Write the mods list as a new row in the CSV file\n",
    "#         writer.writerow(mods)"
   ]
  },
  {
   "cell_type": "markdown",
   "metadata": {},
   "source": [
    "The indexes (m) for which Phi_m has prime divisors all congruent to 1 modulo m"
   ]
  },
  {
   "cell_type": "code",
   "execution_count": 28,
   "metadata": {},
   "outputs": [
    {
     "name": "stdout",
     "output_type": "stream",
     "text": [
      "Of the first 1000 cyclotomic polynomials, 569 satisfy the property. \n",
      "These are m=[12, 15, 24, 28, 30, 33, 35, 36, 40, 44, 45, 48, 51, 56, 60, 63, 65, 66, 69, 70, 72, 75, 76, 77, 80, 84, 85, 87, 88, 90, 91, 92, 95, 96, 99, 102, 104, 105, 108, 112, 115, 117, 119, 120, 123, 124, 126, 130, 132, 133, 135, 138, 140, 141, 143, 144, 145, 150, 152, 153, 154, 159, 160, 161, 165, 168, 170, 172, 174, 175, 176, 177, 180, 182, 184, 185, 187, 188, 189, 190, 192, 195, 196, 198, 200, 204, 207, 208, 209, 210, 213, 215, 216, 217, 220, 221, 224, 225, 228, 230, 231, 232, 234, 235, 236, 238, 240, 245, 246, 247, 248, 249, 252, 255, 259, 260, 261, 264, 265, 266, 267, 268, 270, 273, 275, 276, 279, 280, 282, 284, 285, 286, 287, 288, 290, 295, 296, 297, 299, 300, 303, 304, 306, 308, 312, 315, 316, 318, 319, 320, 321, 322, 323, 324, 325, 329, 330, 332, 335, 336, 339, 340, 341, 344, 345, 348, 350, 351, 352, 354, 357, 360, 363, 364, 365, 368, 369, 370, 371, 372, 374, 375, 376, 377, 378, 380, 384, 385, 387, 390, 391, 392, 393, 395, 396, 399, 400, 403, 405, 407, 408, 411, 412, 413, 414, 415, 416, 418, 420, 423, 424, 425, 426, 427, 428, 429, 430, 432, 434, 435, 437, 440, 441, 442, 445, 447, 448, 450, 451, 455, 456, 459, 460, 462, 464, 468, 469, 470, 472, 473, 475, 476, 477, 480, 481, 483, 484, 485, 488, 490, 492, 493, 494, 495, 496, 498, 501, 504, 508, 510, 511, 513, 515, 516, 517, 518, 519, 520, 522, 524, 525, 527, 528, 530, 531, 532, 533, 534, 535, 536, 537, 539, 540, 544, 545, 546, 549, 550, 551, 552, 553, 555, 556, 558, 559, 560, 561, 564, 565, 567, 568, 570, 572, 573, 574, 575, 576, 580, 581, 583, 585, 588, 589, 590, 591, 592, 594, 595, 598, 600, 603, 604, 606, 608, 609, 611, 612, 615, 616, 620, 621, 623, 624, 627, 629, 630, 632, 635, 636, 637, 638, 639, 640, 642, 644, 645, 646, 648, 649, 650, 651, 652, 656, 658, 660, 663, 664, 665, 667, 668, 670, 671, 672, 675, 678, 679, 680, 681, 682, 684, 685, 688, 690, 693, 695, 696, 697, 699, 700, 702, 703, 704, 705, 707, 708, 711, 713, 714, 715, 716, 717, 720, 721, 725, 726, 728, 730, 731, 735, 736, 738, 740, 741, 742, 744, 745, 747, 748, 749, 750, 752, 753, 754, 756, 759, 760, 763, 764, 765, 767, 768, 770, 771, 774, 775, 777, 779, 780, 781, 782, 783, 784, 785, 786, 789, 790, 792, 793, 795, 796, 798, 799, 800, 801, 803, 804, 805, 806, 807, 808, 810, 814, 815, 816, 817, 819, 822, 824, 825, 826, 828, 830, 832, 833, 835, 836, 837, 840, 843, 844, 845, 846, 847, 848, 850, 851, 852, 854, 855, 856, 858, 860, 861, 864, 865, 867, 868, 869, 870, 871, 872, 873, 874, 875, 879, 880, 882, 884, 885, 888, 890, 891, 892, 893, 894, 895, 896, 897, 899, 900, 901, 902, 908, 909, 910, 912, 913, 917, 918, 920, 923, 924, 925, 927, 928, 931, 933, 935, 936, 938, 940, 943, 944, 945, 946, 948, 949, 950, 951, 952, 954, 956, 957, 959, 960, 962, 963, 965, 966, 968, 969, 970, 972, 973, 975, 976, 980, 984, 985, 986, 987, 988, 989, 990, 992, 995, 996, 999, 1000].\n"
     ]
    }
   ],
   "source": [
    "with open('03.2-cycvals.csv') as file:\n",
    "    reader = csv.reader(file, delimiter=',')\n",
    "    m = 1\n",
    "    indexes = []\n",
    "    for row in reader:\n",
    "        rowlst = [int(x) for x in row]\n",
    "        if len(set(rowlst)) == 1 and 1 in rowlst:\n",
    "            indexes.append(m)\n",
    "        m += 1\n",
    "print(f'Of the first 1000 cyclotomic polynomials, {len(indexes)} satisfy the property. \\nThese are m={indexes}.')"
   ]
  },
  {
   "cell_type": "code",
   "execution_count": null,
   "metadata": {},
   "outputs": [],
   "source": []
  }
 ],
 "metadata": {
  "kernelspec": {
   "display_name": "Python 3",
   "language": "python",
   "name": "python3"
  },
  "language_info": {
   "codemirror_mode": {
    "name": "ipython",
    "version": 3
   },
   "file_extension": ".py",
   "mimetype": "text/x-python",
   "name": "python",
   "nbconvert_exporter": "python",
   "pygments_lexer": "ipython3",
   "version": "3.13.0"
  }
 },
 "nbformat": 4,
 "nbformat_minor": 2
}
