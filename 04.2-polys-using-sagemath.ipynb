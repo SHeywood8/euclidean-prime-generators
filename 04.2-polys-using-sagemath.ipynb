{
 "cells": [
  {
   "cell_type": "markdown",
   "id": "59b0dd0e-52ce-41b4-a3bd-cc5cd22c2710",
   "metadata": {},
   "source": [
    "# Sagemath notebook for polynomial calculations"
   ]
  },
  {
   "cell_type": "markdown",
   "id": "51bb9752-4eed-4d97-aed9-0e1871b58a6a",
   "metadata": {},
   "source": [
    "#### Murty and Thain's printing error in their example"
   ]
  },
  {
   "cell_type": "code",
   "execution_count": 2,
   "id": "3f13ac48-c2ed-48e9-aa1a-2ca8af07a237",
   "metadata": {},
   "outputs": [
    {
     "name": "stdout",
     "output_type": "stream",
     "text": [
      "x^4 - x^3 + 2*x^2 + x + 1\n"
     ]
    }
   ],
   "source": [
    "# Import necessary libraries\n",
    "from sage.all import *\n",
    "\n",
    "R.<x> = PolynomialRing(QQbar)\n",
    "z=QQbar(1)\n",
    "w=z.nth_root(15,all=True)[1]\n",
    "a = w + w**4\n",
    "b = w**2 + w**8\n",
    "c = w**7 + w**13\n",
    "d = w**11 + w**14\n",
    "g = (x-a)*(x-b)*(x-c)*(x-d)\n",
    "print(g)"
   ]
  },
  {
   "cell_type": "markdown",
   "id": "aeb05285-383b-47fa-b413-31ae287e2806",
   "metadata": {},
   "source": [
    "#### Discussion surrounding which Euclidean Polynomials are used"
   ]
  },
  {
   "cell_type": "code",
   "execution_count": 3,
   "id": "4de11909-0fc7-43c2-b206-5b0f3fcd2998",
   "metadata": {},
   "outputs": [],
   "source": [
    "def h(m, a, u): # Murty and Thain's polynomial from their proof\n",
    "    R.<x> = PolynomialRing(QQ)\n",
    "    zeta = CyclotomicField(m).gen()\n",
    "    prod = 1\n",
    "    for k in range(1, m):\n",
    "        if gcd(k, m) == 1:\n",
    "            term = (x - (u - zeta^k) * (u - zeta^(k * a)))\n",
    "            prod *= term\n",
    "    return sqrt(prod)\n",
    "\n",
    "def f(m,a): # Murty and Thain's polynomial from their example\n",
    "    R.<x> = PolynomialRing(QQ)\n",
    "    zeta = CyclotomicField(m).gen()\n",
    "    prod = 1\n",
    "    for k in range(1,m):\n",
    "        if gcd(k,m) == 1:\n",
    "            term = (x - (zeta^k + zeta^(k * a)))\n",
    "            prod *= term\n",
    "    return sqrt(prod)"
   ]
  },
  {
   "cell_type": "code",
   "execution_count": 4,
   "id": "a745bae3-709e-4755-9b67-8a42dfe739c9",
   "metadata": {},
   "outputs": [
    {
     "name": "stdout",
     "output_type": "stream",
     "text": [
      "1 x^4 - x^2 + 1\n",
      "5 x^4 + 2*x^2 + 1\n",
      "7 x^4 + 2*x^3 + 3*x^2 + 2*x + 1\n",
      "11 x^4 + 4*x^3 + 6*x^2 + 4*x + 1\n",
      "13 x^4 - x^2 + 1\n",
      "17 x^4 + 2*x^2 + 1\n",
      "19 x^4 - 2*x^3 + 3*x^2 - 2*x + 1\n",
      "23 x^4 - 4*x^3 + 6*x^2 - 4*x + 1\n",
      "\n",
      "\n",
      "1 sqrt(x^8 - 16*x^4 + 256)\n",
      "5 x^4 + 9\n",
      "7 x^4 + 2*x^2 + 4\n",
      "11 x^4 + 4*x^2 + 1\n",
      "13 x^4\n",
      "17 x^4 + 1\n",
      "19 x^4 - 2*x^2 + 4\n",
      "23 x^4 - 4*x^2 + 1\n"
     ]
    }
   ],
   "source": [
    "ress = [k for k in range(1,24) if gcd(k,24)==1]\n",
    "for k in ress:\n",
    "    print(k,h(24,k,0))\n",
    "print('\\n')\n",
    "for k in ress:\n",
    "    print(k,f(24,k))"
   ]
  },
  {
   "cell_type": "code",
   "execution_count": 21,
   "id": "a0038dbd-4040-47d2-9b09-303600b85a26",
   "metadata": {},
   "outputs": [
    {
     "name": "stdout",
     "output_type": "stream",
     "text": [
      "x^3 + x^2 - 2*x - 1\n"
     ]
    }
   ],
   "source": [
    "print(f(7,6))"
   ]
  },
  {
   "cell_type": "code",
   "execution_count": 24,
   "id": "dc9f466e-03e4-42ca-9af3-5d73f06384cd",
   "metadata": {},
   "outputs": [
    {
     "name": "stdout",
     "output_type": "stream",
     "text": [
      "x - 1\n",
      "x\n"
     ]
    }
   ],
   "source": [
    "print(h(4,3,0))\n",
    "print(f(4,3))"
   ]
  },
  {
   "cell_type": "code",
   "execution_count": null,
   "id": "2b811431-f004-4a67-88ee-f45465f310ca",
   "metadata": {},
   "outputs": [],
   "source": []
  }
 ],
 "metadata": {
  "kernelspec": {
   "display_name": "SageMath 10.4",
   "language": "sage",
   "name": "sagemath"
  },
  "language_info": {
   "codemirror_mode": {
    "name": "ipython",
    "version": 3
   },
   "file_extension": ".py",
   "mimetype": "text/x-python",
   "name": "python",
   "nbconvert_exporter": "python",
   "pygments_lexer": "ipython3",
   "version": "3.11.10"
  }
 },
 "nbformat": 4,
 "nbformat_minor": 5
}
