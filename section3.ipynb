{
 "cells": [
  {
   "cell_type": "markdown",
   "metadata": {},
   "source": [
    "# Section 3 - Euclid-Mullin Sequences in mk+1"
   ]
  },
  {
   "cell_type": "code",
   "execution_count": 39,
   "metadata": {},
   "outputs": [],
   "source": [
    "import main\n",
    "import math\n",
    "import random\n",
    "import csv"
   ]
  },
  {
   "cell_type": "code",
   "execution_count": 40,
   "metadata": {},
   "outputs": [],
   "source": [
    "def list_to_poly(coeffs : list):\n",
    "    '''Takes an integer list and returns a polynomial with those integers as coefficients\n",
    "    e.g. [1,2,3] returns 1 + 2x + 3x**2'''\n",
    "    def poly(x):\n",
    "        sum = 0\n",
    "        expo = 0\n",
    "        for i in range(len(coeffs)):\n",
    "            sum += coeffs[-i-1]*(x**expo)\n",
    "            expo += 1\n",
    "        return sum\n",
    "    return poly\n",
    "\n",
    "def phi_prime(p : int):\n",
    "    '''Returns the polynomial of degree p-1 with all coefficients 1\n",
    "    i.e. Phi_p(x) for p prime'''\n",
    "    return list_to_poly([1]*p)\n",
    "\n",
    "def phi(m,x):\n",
    "    '''Recursive function to calculate Phi_m(x) for any m\n",
    "    using the recursive division equation presented in section 3.1'''\n",
    "    if m == 1:\n",
    "        return x - 1\n",
    "    factors = main.factor(m)\n",
    "    if len(factors) == 1:\n",
    "        return phi_prime(m)(x)\n",
    "    else:\n",
    "        val = phi_prime(m)(x)\n",
    "        for d in range(2,m):\n",
    "            if m % d == 0:\n",
    "                val //= phi(d,x)\n",
    "        return val\n",
    "\n",
    "def fermat(a : int, d : int, N : int): # Book page 88\n",
    "    '''Calculates a^d mod N'''\n",
    "    prod = 1\n",
    "    a2j = a\n",
    "    while d>0:\n",
    "        if d % 2 == 1:\n",
    "            prod *= a2j\n",
    "            prod %= N\n",
    "        d //= 2\n",
    "        a2j **= 2\n",
    "        a2j %= N\n",
    "    return prod\n",
    "\n",
    "def fermat_test(N : int, iter = 10, baselim = 313):\n",
    "    '''Performs a fermat compositeness test with multiple prime bases\n",
    "     to try to rule out if N is prime. Output is whether or not N is\n",
    "     (probably) prime.'''\n",
    "    primes = main.eratosthanes(baselim)\n",
    "    for p in primes:\n",
    "        if N % p == 0 and N != p:\n",
    "            return False\n",
    "    for i in range(iter):\n",
    "        if math.gcd(primes[i],N) == 1:\n",
    "            if fermat(primes[i],N-1,N) != 1:\n",
    "                return False\n",
    "    else:\n",
    "        return True\n",
    "\n",
    "def modular_pow(base, exponent, modulus): # Function from https://www.geeksforgeeks.org/pollards-rho-algorithm-prime-factorization/\n",
    "    '''Efficiently computes large powers base**exponent mod modulus'''\n",
    "    result = 1  # initialize result \n",
    "    while (exponent > 0):\n",
    "        if (exponent & 1): # if y is odd, multiply base with result \n",
    "            result = (result * base) % modulus\n",
    "        exponent = exponent >> 1 # exponent = exponent/2 \n",
    "        base = (base * base) % modulus # base = base * base \n",
    "    return result\n",
    "\n",
    "def PollardRho(n): # Function from https://www.geeksforgeeks.org/pollards-rho-algorithm-prime-factorization/\n",
    "    '''Implementation of the Pollard Rho algorithm to find factors'''\n",
    "    if (n == 1): # no prime divisor for 1 \n",
    "        return n\n",
    "    if (n % 2 == 0): # even number means one of the divisors is 2 \n",
    "        return 2\n",
    "    x = (random.randint(0, 2) % (n - 2)) # we will pick from the range [2, N) \n",
    "    y = x\n",
    "    # the constant in f(x).\n",
    "    # Algorithm can be re-run with a different c\n",
    "    # if it throws failure for a composite. \n",
    "    c = (random.randint(0, 1) % (n - 1))\n",
    "    # Initialize candidate divisor (or result) \n",
    "    d = 1\n",
    "    # until the prime factor isn't obtained.\n",
    "    # If n is prime, return n \n",
    "    while (d == 1):\n",
    "        # Tortoise Move: x(i+1) = f(x(i)) \n",
    "        x = (modular_pow(x, 2, n) + c + n)%n\n",
    "        # Hare Move: y(i+1) = f(f(y(i))) \n",
    "        y = (modular_pow(y, 2, n) + c + n)%n\n",
    "        y = (modular_pow(y, 2, n) + c + n)%n\n",
    "        # check gcd of |x-y| and n \n",
    "        d = math.gcd(abs(x - y), n)\n",
    "        # retry if the algorithm fails to find prime factor\n",
    "        # with chosen x and c \n",
    "        if (d == n):\n",
    "            return PollardRho(n)\n",
    "    return d\n",
    "\n",
    "def factor(n):\n",
    "    '''Function that finds the prime factorisation of n.\n",
    "    First brute force checks all primes less than 10000\n",
    "    Then checks if remaining number is composite\n",
    "    Then repeatedly uses PollardRho algorithm to find larger factors'''\n",
    "    factors = []\n",
    "    for p in main.eratosthanes(10000):\n",
    "        while n % p == 0:\n",
    "            n //= p\n",
    "            factors.append(p)\n",
    "    while n > 1:\n",
    "        if not fermat_test(n):\n",
    "            a = PollardRho(n)\n",
    "            factors.append(a)\n",
    "            n //= a\n",
    "        else:\n",
    "            factors.append(n)\n",
    "            return factors\n",
    "    return factors"
   ]
  },
  {
   "cell_type": "markdown",
   "metadata": {},
   "source": [
    "## Section 3.2 - The Method"
   ]
  },
  {
   "cell_type": "markdown",
   "metadata": {},
   "source": [
    "#### Example for 4k+1"
   ]
  },
  {
   "cell_type": "code",
   "execution_count": 41,
   "metadata": {},
   "outputs": [
    {
     "name": "stdout",
     "output_type": "stream",
     "text": [
      "For the EM sequence in 4k+1 using Phi_4(4a):\n",
      "[]\n",
      "a = 1\n",
      "N = 17\n",
      "N has factors [17]\n",
      "[17]\n",
      "a = 17\n",
      "N = 4625\n",
      "N has factors [5, 5, 5, 37]\n",
      "[17, 5]\n",
      "a = 85\n",
      "N = 115601\n",
      "N has factors [115601]\n",
      "[17, 5, 115601]\n",
      "a = 9826085\n",
      "N = 1544831142835601\n",
      "N has factors [1457497, 1059920633]\n",
      "[17, 5, 115601, 1457497]\n",
      "a = 14321489409245\n",
      "N = 3281680942385867185463520401\n",
      "N has factors [56921, 57653255255281305413881]\n",
      "[17, 5, 115601, 1457497, 56921]\n"
     ]
    }
   ],
   "source": [
    "seq4 = []\n",
    "\n",
    "print('For the EM sequence in 4k+1 using Phi_4(4a):')\n",
    "\n",
    "for i in range(5):\n",
    "    print(seq4)\n",
    "    a = math.prod(seq4)\n",
    "    print(f'a = {a}')\n",
    "    n = phi(4,4*a)\n",
    "    print(f'N = {n}')\n",
    "    facs = factor(n)\n",
    "    print(f'N has factors {facs}')\n",
    "    seq4.append(min(facs))\n",
    "print(seq4)"
   ]
  },
  {
   "cell_type": "code",
   "execution_count": 42,
   "metadata": {},
   "outputs": [
    {
     "name": "stdout",
     "output_type": "stream",
     "text": [
      "For the EM sequence in 4k+1 using Phi_4(2a):\n",
      "[]\n",
      "a = 1\n",
      "N = 5\n",
      "N has factors [5]\n",
      "[5]\n",
      "a = 5\n",
      "N = 101\n",
      "N has factors [101]\n",
      "[5, 101]\n",
      "a = 505\n",
      "N = 1020101\n",
      "N has factors [1020101]\n",
      "[5, 101, 1020101]\n",
      "a = 515151005\n",
      "N = 1061522231810040101\n",
      "N has factors [53, 1613, 12417062216309]\n",
      "[5, 101, 1020101, 53]\n",
      "a = 27303003265\n",
      "N = 2981815949154402640901\n",
      "N has factors [29, 137, 8143721, 92159345497]\n",
      "[5, 101, 1020101, 53, 29]\n"
     ]
    }
   ],
   "source": [
    "seq2 = []\n",
    "\n",
    "print('For the EM sequence in 4k+1 using Phi_4(2a):')\n",
    "\n",
    "for i in range(5):\n",
    "    print(seq2)\n",
    "    a = math.prod(seq2)\n",
    "    print(f'a = {a}')\n",
    "    n = phi(4,2*a)\n",
    "    print(f'N = {n}')\n",
    "    facs = factor(n)\n",
    "    print(f'N has factors {facs}')\n",
    "    seq2.append(min(facs))\n",
    "print(seq2)"
   ]
  },
  {
   "cell_type": "markdown",
   "metadata": {},
   "source": [
    "#### Example for 5k+1"
   ]
  },
  {
   "cell_type": "code",
   "execution_count": 44,
   "metadata": {},
   "outputs": [
    {
     "name": "stdout",
     "output_type": "stream",
     "text": [
      "For the EM sequence in 5k+1 using Phi_5(5a)\n",
      "[]\n",
      "a = 1\n",
      "N = 781\n",
      "N has factors [11, 71]\n",
      "[71]\n",
      "a = 71\n",
      "N = 15927165881\n",
      "N has factors [11, 1447924171]\n",
      "[71, 1447924171]\n",
      "a = 102802616141\n",
      "N = 69806631955964597980945010096726406220841630981\n",
      "N has factors [11, 31, 41, 311, 12011, 364490341, 3667185416586300605613786041]\n",
      "[71, 1447924171, 3667185416586300605613786041]\n",
      "a = 376996254699194635758149876070627087781\n",
      "N = 12624906200404940689191978070045377494879513343566667250272050819055623766466187699285599250055383402208906248865456217060620363487695490094039741799829056181\n",
      "N has factors [31, 251, 311, 941, 12541, 202008151, 2188475408941814570040456230961014091230117129857427401718038042961655096837762611229601339388318619248220635485794241546725519124149161]\n",
      "[71, 1447924171, 3667185416586300605613786041, 2188475408941814570040456230961014091230117129857427401718038042961655096837762611229601339388318619248220635485794241546725519124149161]\n"
     ]
    }
   ],
   "source": [
    "seq5 = []\n",
    "\n",
    "print('For the EM sequence in 5k+1 using Phi_5(5a)')\n",
    "\n",
    "for i in range(4):\n",
    "    print(seq5)\n",
    "    a = math.prod(seq5)\n",
    "    print(f'a = {a}')\n",
    "    n = phi(5,5*a)\n",
    "    print(f'N = {n}')\n",
    "    facs = factor(n)\n",
    "    print(f'N has factors {facs}')\n",
    "    seq5.append(max(facs))\n",
    "print(seq5)"
   ]
  },
  {
   "cell_type": "code",
   "execution_count": 45,
   "metadata": {},
   "outputs": [
    {
     "name": "stdout",
     "output_type": "stream",
     "text": [
      "This last N had 158 terms\n",
      "and largest prime divisor of length 136.\n"
     ]
    }
   ],
   "source": [
    "print(f'This last N had {len('12624906200404940689191978070045377494879513343566667250272050819055623766466187699285599250055383402208906248865456217060620363487695490094039741799829056181')} terms')\n",
    "print(f'and largest prime divisor of length {len('2188475408941814570040456230961014091230117129857427401718038042961655096837762611229601339388318619248220635485794241546725519124149161')}.')"
   ]
  },
  {
   "cell_type": "code",
   "execution_count": 46,
   "metadata": {},
   "outputs": [
    {
     "name": "stdout",
     "output_type": "stream",
     "text": [
      "The next N we would need to factorise would be \n",
      " 289597523737836948333310175321110068291402270014451675897378558088880524898007179204225717767787513913090352970778596645549030767522058130112211235736444030169895041368741368318715349686946474093541864791417011076484807418821591250813130670299094315653702922771929769715435522821693179105047445334951924274600291441984810298032479687681727210609474857128375740705518723357793629201875436186665099102761462201197605060016101130915706130436221483433563205840669841388203682083729890494523552126979222041818352002555553365403953739683650101599111347113923014340418474434287105527174602106533590567951886805506619347340122640918970906431167598849298021918016772404015220844262832584559983748332817638981\n",
      "with 699 digits.\n"
     ]
    }
   ],
   "source": [
    "print(f'The next N we would need to factorise would be \\n {phi(5,5*math.prod(seq5))}')\n",
    "print(f'with {(len('289597523737836948333310175321110068291402270014451675897378558088880524898007179204225717767787513913090352970778596645549030767522058130112211235736444030169895041368741368318715349686946474093541864791417011076484807418821591250813130670299094315653702922771929769715435522821693179105047445334951924274600291441984810298032479687681727210609474857128375740705518723357793629201875436186665099102761462201197605060016101130915706130436221483433563205840669841388203682083729890494523552126979222041818352002555553365403953739683650101599111347113923014340418474434287105527174602106533590567951886805506619347340122640918970906431167598849298021918016772404015220844262832584559983748332817638981'))} digits.')"
   ]
  },
  {
   "cell_type": "code",
   "execution_count": 47,
   "metadata": {},
   "outputs": [
    {
     "name": "stdout",
     "output_type": "stream",
     "text": [
      "But it is easy to verify that is has smallest prime divisor\n",
      "1171\n"
     ]
    }
   ],
   "source": [
    "n = 289597523737836948333310175321110068291402270014451675897378558088880524898007179204225717767787513913090352970778596645549030767522058130112211235736444030169895041368741368318715349686946474093541864791417011076484807418821591250813130670299094315653702922771929769715435522821693179105047445334951924274600291441984810298032479687681727210609474857128375740705518723357793629201875436186665099102761462201197605060016101130915706130436221483433563205840669841388203682083729890494523552126979222041818352002555553365403953739683650101599111347113923014340418474434287105527174602106533590567951886805506619347340122640918970906431167598849298021918016772404015220844262832584559983748332817638981\n",
    "print('But it is easy to verify that is has smallest prime divisor')\n",
    "for p in main.eratosthanes(10000):\n",
    "    if n % p == 0:\n",
    "        print(p)"
   ]
  },
  {
   "cell_type": "markdown",
   "metadata": {},
   "source": [
    "#### For discussion around what a can be multipled by instead of m.\n",
    "\n",
    "The following code computes the value of Phi_m(x) (mod m) for all residues classes of m and for m up to 1000 and stores the data in the `cycvals.csv` file."
   ]
  },
  {
   "cell_type": "code",
   "execution_count": 48,
   "metadata": {},
   "outputs": [],
   "source": [
    "# # Can take a while to run so has been commented out to avoid accidental running. Data is already in the required file.\n",
    "\n",
    "# with open('cycvals.csv', mode='w', newline='') as file:\n",
    "#     writer = csv.writer(file)\n",
    "    \n",
    "#     for m in range(1, 1001):\n",
    "#         mods = []\n",
    "#         for i in range(m):\n",
    "#             a = phi2(m, i) % m\n",
    "#             mods.append(a)\n",
    "        \n",
    "#         # Write the mods list as a new row in the CSV file\n",
    "#         writer.writerow(mods)"
   ]
  }
 ],
 "metadata": {
  "kernelspec": {
   "display_name": "Python 3",
   "language": "python",
   "name": "python3"
  },
  "language_info": {
   "codemirror_mode": {
    "name": "ipython",
    "version": 3
   },
   "file_extension": ".py",
   "mimetype": "text/x-python",
   "name": "python",
   "nbconvert_exporter": "python",
   "pygments_lexer": "ipython3",
   "version": "3.13.0"
  }
 },
 "nbformat": 4,
 "nbformat_minor": 2
}
